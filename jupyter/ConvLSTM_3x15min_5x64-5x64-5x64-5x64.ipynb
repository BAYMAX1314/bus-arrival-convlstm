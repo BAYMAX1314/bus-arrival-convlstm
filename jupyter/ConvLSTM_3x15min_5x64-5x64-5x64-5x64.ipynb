{
 "cells": [
  {
   "cell_type": "code",
   "execution_count": 3,
   "metadata": {
    "collapsed": false,
    "deletable": true,
    "editable": true
   },
   "outputs": [
    {
     "name": "stdout",
     "output_type": "stream",
     "text": [
      "numpy ver.: 1.13.1\n",
      "pandas ver.: 0.19.0\n",
      "tensorflow ver.: 1.0.0\n",
      "keras ver.: 2.0.8\n"
     ]
    }
   ],
   "source": [
    "import time\n",
    "import datetime\n",
    "\n",
    "import numpy as np\n",
    "import pandas as pd\n",
    "import tensorflow as tf\n",
    "\n",
    "import keras\n",
    "from keras.models import Sequential\n",
    "from keras.layers import *\n",
    "from keras.layers.wrappers import *\n",
    "from keras.optimizers import RMSprop\n",
    "from keras.callbacks import CSVLogger, EarlyStopping\n",
    "import keras.backend.tensorflow_backend as ktf\n",
    "\n",
    "import matplotlib.pyplot as plt\n",
    "\n",
    "from common import *\n",
    "\n",
    "plt.style.use('ggplot')\n",
    "%matplotlib inline\n",
    "plt.rcParams['axes.facecolor'] = 'w'\n",
    "plt.rcParams['axes.labelcolor'] = 'k'\n",
    "plt.rcParams['axes.edgecolor'] = 'k'\n",
    "plt.rcParams['ytick.color'] = 'k'\n",
    "plt.rcParams['xtick.color'] = 'k'\n",
    "plt.rcParams['grid.color'] = (.7, .7, .7, 0)\n",
    "plt.rcParams['figure.figsize'] = (16, 10)\n",
    "\n",
    "print('numpy ver.: ' + np.__version__)\n",
    "print('pandas ver.: ' + pd.__version__)\n",
    "print('tensorflow ver.: ' + tf.__version__) \n",
    "print('keras ver.: ' + keras.__version__)"
   ]
  },
  {
   "cell_type": "code",
   "execution_count": 4,
   "metadata": {
    "collapsed": true
   },
   "outputs": [],
   "source": [
    "def get_session(gpu_fraction=0.333):\n",
    "    gpu_options = tf.GPUOptions(per_process_gpu_memory_fraction=gpu_fraction,\n",
    "                                allow_growth=True)\n",
    "    return tf.Session(config=tf.ConfigProto(gpu_options=gpu_options))\n",
    "\n",
    "ktf.set_session(get_session())"
   ]
  },
  {
   "cell_type": "markdown",
   "metadata": {
    "deletable": true,
    "editable": true
   },
   "source": [
    "## Functions"
   ]
  },
  {
   "cell_type": "markdown",
   "metadata": {
    "deletable": true,
    "editable": true
   },
   "source": [
    "### Functions for generate data"
   ]
  },
  {
   "cell_type": "code",
   "execution_count": 24,
   "metadata": {
    "collapsed": false,
    "deletable": true,
    "editable": true
   },
   "outputs": [],
   "source": [
    "def build_model(input_timesteps, output_timesteps, num_links):\n",
    "    model = Sequential()\n",
    "    model.add(BatchNormalization(name = 'batch_norm_0', input_shape = (input_timesteps, num_links, 1, 1)))\n",
    "    model.add(ConvLSTM2D(name ='conv_lstm_1',\n",
    "                         filters = 64, kernel_size = (5, 1),                       \n",
    "                         padding = 'same', \n",
    "                         return_sequences = True))\n",
    "    \n",
    "    model.add(Dropout(0.2, name = 'dropout_1'))\n",
    "    model.add(BatchNormalization(name = 'batch_norm_1'))\n",
    "\n",
    "    model.add(ConvLSTM2D(name ='conv_lstm_2',\n",
    "                         filters = 64, kernel_size = (5, 1), \n",
    "                         padding='same',\n",
    "                         return_sequences = False))\n",
    "    \n",
    "    model.add(Dropout(0.1, name = 'dropout_2'))\n",
    "    model.add(BatchNormalization(name = 'batch_norm_2'))\n",
    "    \n",
    "    model.add(Flatten())\n",
    "    model.add(RepeatVector(output_timesteps))\n",
    "    model.add(Reshape((output_timesteps, num_links, 1, 64)))\n",
    "    \n",
    "    model.add(ConvLSTM2D(name ='conv_lstm_3',\n",
    "                         filters = 64, kernel_size = (5, 1), \n",
    "                         padding='same',\n",
    "                         return_sequences = True))\n",
    "    \n",
    "    model.add(Dropout(0.1, name = 'dropout_3'))\n",
    "    model.add(BatchNormalization(name = 'batch_norm_3'))\n",
    "    \n",
    "    model.add(ConvLSTM2D(name ='conv_lstm_4',\n",
    "                         filters = 64, kernel_size = (5, 1), \n",
    "                         padding='same',\n",
    "                         return_sequences = True))\n",
    "    \n",
    "    model.add(TimeDistributed(Dense(units=1, name = 'dense_1', activation = 'relu')))\n",
    "    #model.add(Dense(units=1, name = 'dense_2'))\n",
    "\n",
    "    optimizer = RMSprop() #lr=0.0001, rho=0.9, epsilon=1e-08, decay=0.9)\n",
    "    model.compile(loss = \"mse\", optimizer = optimizer)\n",
    "    return model"
   ]
  },
  {
   "cell_type": "code",
   "execution_count": 6,
   "metadata": {
    "collapsed": true
   },
   "outputs": [],
   "source": [
    "def info(msg):\n",
    "    print(datetime.datetime.now().strftime('%Y-%m-%d %H:%M:%S') + \" \" + msg)"
   ]
  },
  {
   "cell_type": "markdown",
   "metadata": {
    "deletable": true,
    "editable": true
   },
   "source": [
    "## Load data"
   ]
  },
  {
   "cell_type": "code",
   "execution_count": 9,
   "metadata": {
    "collapsed": false,
    "deletable": true,
    "editable": true
   },
   "outputs": [
    {
     "name": "stdout",
     "output_type": "stream",
     "text": [
      "1103832\n"
     ]
    }
   ],
   "source": [
    "data = prep_data('../data/4A_1_201705_201709.csv')\n",
    "print(len(data))"
   ]
  },
  {
   "cell_type": "markdown",
   "metadata": {},
   "source": [
    "Subset the part of the 4A line that are identical across all journey patterns."
   ]
  },
  {
   "cell_type": "code",
   "execution_count": 10,
   "metadata": {
    "collapsed": false,
    "deletable": true,
    "editable": true
   },
   "outputs": [
    {
     "name": "stdout",
     "output_type": "stream",
     "text": [
      "857728\n"
     ]
    }
   ],
   "source": [
    "data = data[(1 <= data['LineDirectionLinkOrder']) & (data['LineDirectionLinkOrder'] <= 32)]\n",
    "assert len(data['LinkRef'].unique()) == 32\n",
    "n = len(data)\n",
    "print(n)"
   ]
  },
  {
   "cell_type": "markdown",
   "metadata": {
    "deletable": true,
    "editable": true
   },
   "source": [
    "## Train and test"
   ]
  },
  {
   "cell_type": "code",
   "execution_count": null,
   "metadata": {
    "collapsed": false,
    "deletable": true,
    "editable": true,
    "scrolled": false
   },
   "outputs": [
    {
     "name": "stdout",
     "output_type": "stream",
     "text": [
      "2017-10-11 10:49:20 Current window: 0\n",
      "2017-10-11 10:49:20 - Train size :   643296 (0.75%) \n",
      "2017-10-11 10:49:20 - Test size  :    42886 (0.05%) \n",
      "2017-10-11 10:49:21 - Removed 33508 outliers (5.21%)\n",
      "2017-10-11 10:49:24 - X_train shape : (11118, 32, 32, 1, 1)    X_test shape : (11118, 32, 32, 1, 1)\n",
      "2017-10-11 10:49:24 - Y_train shape : (11118, 3, 32, 1, 1)    Y_test shape : (11118, 3, 32, 1, 1)\n"
     ]
    }
   ],
   "source": [
    "global_start_time = time.time()\n",
    "csv_logger = CSVLogger('logs/convlstm_training.log')\n",
    "early_stopping = EarlyStopping(monitor='val_loss', patience=2)\n",
    "\n",
    "bootstrap_size_pct = 0.75\n",
    "test_window_pct = 0.05\n",
    "max_iter = 5\n",
    "\n",
    "lags = 4 * 8\n",
    "preds = 3\n",
    "\n",
    "hist = []\n",
    "for i in range(max_iter):\n",
    "\n",
    "    info(\"Current window: \" + str(i))\n",
    "    \n",
    "    # Devide into test and train\n",
    "    data_train = data[:int((bootstrap_size_pct + i * test_window_pct) * n)]\n",
    "    data_test = data[int((bootstrap_size_pct + i * test_window_pct) * n):int((bootstrap_size_pct + (i + 1) * test_window_pct) * n)]\n",
    "    n_train = len(data_train)\n",
    "    n_test = len(data_test)\n",
    "    info('- Train size : {:>8} ({:.2f}%) '.format(n_train, 1. * n_train / n))\n",
    "    info('- Test size  : {:>8} ({:.2f}%) '.format(n_test, 1. * n_test / n))\n",
    "    \n",
    "    # Mean center and scale\n",
    "    (means, scales, low, upr) = fit_scale(data_train)\n",
    "    assert means.shape[0] == 4 * 24 * 7\n",
    "    assert len(scales) == 32\n",
    "    assert len(low) == 32\n",
    "    assert len(upr) == 32\n",
    "    \n",
    "    data_train_no, n_outliers = remove_outliers(data_train, low, upr)\n",
    "    info('- Removed {0} outliers ({1:.2f}%)'.format(n_outliers, 100.0 * n_outliers / len(data_train)))\n",
    "    \n",
    "    ix_train, ts_train, rm_mean_train, rm_scale_train, w_train, lns_train = transform(data_train_no, means, scales, low, upr)\n",
    "    ix_test, ts_test, rm_mean_test, rm_scale_test, w_test, lns_test = transform(data_train_no, means, scales, low, upr)\n",
    "\n",
    "    # Create rolling window tensor\n",
    "    X_train, Y_train, Y_ix_train, Y_rm_mean_train, Y_scale_train, Y_w_train = roll(ix_train, ts_train, rm_mean_train, rm_scale_train, w_train, lags, preds)\n",
    "    X_test, Y_test, Y_ix_test, Y_rm_mean_test, Y_scale_test, Y_w_test = roll(ix_test, ts_test, rm_mean_test, rm_scale_test, w_test, lags, preds)\n",
    "\n",
    "    X_train = X_train[:,:,:,np.newaxis,np.newaxis]\n",
    "    Y_train = Y_train[:,:,:,np.newaxis,np.newaxis]\n",
    "    X_test = X_test[:,:,:,np.newaxis,np.newaxis]\n",
    "    Y_test = Y_test[:,:,:,np.newaxis,np.newaxis]\n",
    "    \n",
    "    info('- X_train shape : {:>20}    X_test shape : {:>20}'.format(X_train.shape, X_test.shape))\n",
    "    info('- Y_train shape : {:>20}    Y_test shape : {:>20}'.format(Y_train.shape, Y_test.shape))\n",
    "    \n",
    "    model = build_model(lags, preds, len(lns_train))\n",
    "    \n",
    "    # Train\n",
    "    history = model.fit(X_train, Y_train,\n",
    "                        batch_size = 512, epochs = 30,\n",
    "                        shuffle = False, validation_data = (X_test, Y_test),\n",
    "                        verbose = 0, callbacks = [csv_logger, early_stopping])\n",
    "    hist.append(history)\n",
    "    model.save('models/ConvLSTM_3x15min_5x64-5x64-5x64-5x64_' + str(i) + '.h5') \n",
    "\n",
    "    Y_true = Y_test.squeeze() * Y_scale_test + Y_rm_mean_test\n",
    "    Y_naive = Y_rm_mean_test\n",
    "    Y_pred = model.predict(X_test).squeeze() * Y_scale_test + Y_rm_mean_test\n",
    "        \n",
    "    Y_true_total = np.sum(Y_true * Y_w_test, axis = 2).squeeze()\n",
    "    Y_naive_total = np.sum(Y_naive * Y_w_test, axis = 2).squeeze()\n",
    "    Y_pred_total = np.sum(Y_pred * Y_w_test, axis = 2).squeeze()\n",
    "    \n",
    "    for t in range(preds):\n",
    "        mask = Y_true_total[:,t] > 0\n",
    "        Y_true_total_t = Y_true_total[mask, t] / 60\n",
    "        Y_naive_total_t = Y_true_total[mask, t] / 60\n",
    "        Y_pred_total_t = Y_true_total[mask, t] / 60  \n",
    "\n",
    "        error_naive_total_t = (Y_naive_total_t - Y_true_total_t)\n",
    "        error_lstm_total_t = (Y_pred_total_t - Y_true_total_t)\n",
    "\n",
    "        mae_ha = np.mean(np.abs(error_naive_total_t))\n",
    "        rmse_ha = np.sqrt(np.mean((error_naive_total_t)**2))\n",
    "        mape_ha = np.mean(np.abs(error_naive_total_t) / Y_true_total_t) * 100\n",
    "\n",
    "        mae_lstm = np.mean(np.abs(error_lstm_total_t))\n",
    "        rmse_lstm = np.sqrt(np.mean((error_lstm_total_t)**2))\n",
    "        mape_lstm = np.mean(np.abs(error_lstm_total_t) / Y_true_total_t) * 100\n",
    "        \n",
    "        info(\"- t + %d - HA       - MAE: %5.2f - RMSE: %5.2f - MAPE: %5.2f\" % (t + 1, mae_ha, rmse_ha, mape_ha))\n",
    "        info(\"- t + %d - ConvLSTM - MAE: %5.2f - RMSE: %5.2f - MAPE: %5.2f\" % (t + 1, mae_lstm, rmse_lstm, mape_lstm))\n",
    "        info(\"- t + %d - *        - MAE: %5.2f - RMSE: %5.2f - MAPE: %5.2f\" % (t + 1, mae_lstm - mae_ha, rmse_lstm - rmse_ha, mape_lstm - mape_ha))\n"
   ]
  },
  {
   "cell_type": "code",
   "execution_count": null,
   "metadata": {
    "collapsed": false,
    "deletable": true,
    "editable": true,
    "scrolled": false
   },
   "outputs": [],
   "source": [
    "for history in hist:\n",
    "    plt.plot(history.history['loss'])\n",
    "for history in hist:\n",
    "    plt.plot(history.history['val_loss'], linestyle = '--')\n",
    "    \n",
    "fig = plt.figure(figsize=(7, 5), dpi=80, facecolor='w', edgecolor='k')\n",
    "ax = fig.add_subplot(1,1,1)\n",
    "ax.plot(np.array(hist[-2].history['loss']) / 60)\n",
    "ax.plot(np.array(hist[-2].history['val_loss']) / 60, linestyle = '--')\n",
    "plt.ylabel('loss (min)', fontsize = 14)\n",
    "plt.xlabel('epoch', fontsize = 14)\n",
    "plt.legend(['train', 'test'], loc='upper right')\n",
    "#plt.show()\n",
    "fig.savefig('conv_lstm_model_loss.pdf')\n",
    "#fig.close()"
   ]
  }
 ],
 "metadata": {
  "kernelspec": {
   "display_name": "Python 2",
   "language": "python",
   "name": "python2"
  },
  "language_info": {
   "codemirror_mode": {
    "name": "ipython",
    "version": 2
   },
   "file_extension": ".py",
   "mimetype": "text/x-python",
   "name": "python",
   "nbconvert_exporter": "python",
   "pygments_lexer": "ipython2",
   "version": "2.7.12"
  }
 },
 "nbformat": 4,
 "nbformat_minor": 2
}
